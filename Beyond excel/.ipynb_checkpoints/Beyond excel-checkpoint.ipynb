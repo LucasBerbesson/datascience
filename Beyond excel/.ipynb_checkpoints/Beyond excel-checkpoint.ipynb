{
 "cells": [
  {
   "cell_type": "markdown",
   "metadata": {
    "slideshow": {
     "slide_type": "slide"
    }
   },
   "source": [
    "# Beyond Excel"
   ]
  },
  {
   "cell_type": "markdown",
   "metadata": {
    "slideshow": {
     "slide_type": "slide"
    }
   },
   "source": [
    "# Excel is good for :\n",
    "- Non programmers\n",
    "- Ready-to-use data\n",
    "- Quick and visual analysis\n",
    "- 1 user applications"
   ]
  },
  {
   "cell_type": "markdown",
   "metadata": {
    "slideshow": {
     "slide_type": "slide"
    }
   },
   "source": [
    "# Python is good for :\n",
    "EVERYTHING ELSE.  \n",
    "ex : easily expose what you want (simpler interfaces), easier to maintain, multiple simultaneous users\n"
   ]
  },
  {
   "cell_type": "markdown",
   "metadata": {
    "collapsed": true,
    "slideshow": {
     "slide_type": "slide"
    }
   },
   "source": [
    "# But, what is Python ?"
   ]
  },
  {
   "cell_type": "markdown",
   "metadata": {
    "slideshow": {
     "slide_type": "subslide"
    }
   },
   "source": [
    "## Python is a programming language\n"
   ]
  },
  {
   "cell_type": "markdown",
   "metadata": {
    "collapsed": true,
    "slideshow": {
     "slide_type": "subslide"
    }
   },
   "source": [
    "## Used by a lot of people\n",
    "Google, Nasa, Youtube, Dropbox, Reddit, Instagram, MIT ... [list of most Popular Languages (TIOBE Index for May 2017)](https://insights.stackoverflow.com/trends?tags=java%2Cc%2Cc%2B%2B%2Cpython%2Cc%23%2Cvb.net%2Cassembly%2Cphp%2Cperl%2Cruby%2Cswift%2Cr%2Cobjective-c%2Cjavascript)"
   ]
  },
  {
   "cell_type": "markdown",
   "metadata": {
    "slideshow": {
     "slide_type": "subslide"
    }
   },
   "source": [
    "## Free and opensource\n",
    "Everyone can use it, for any purpose. Platforms, websites, cryptography, machine learning, games, softwares, calculation...  \n",
    "Everything is very well documented : [official documentation](https://docs.python.org/3/)"
   ]
  },
  {
   "cell_type": "markdown",
   "metadata": {
    "slideshow": {
     "slide_type": "subslide"
    }
   },
   "source": [
    "## Easy to learn\n",
    "It looks like english pseudo-code"
   ]
  },
  {
   "cell_type": "markdown",
   "metadata": {
    "slideshow": {
     "slide_type": "slide"
    }
   },
   "source": [
    "# About this notebook\n",
    "This notebook is a useful way to run code during a presentation but there are multiple other ways to write and run some Python code.   \n",
    "For example you can open up a shell command and type \"python\".  \n",
    "Or write your code inside a ``.py`` file with a text editor and launch the script from the same shell.  \n"
   ]
  },
  {
   "cell_type": "markdown",
   "metadata": {
    "slideshow": {
     "slide_type": "slide"
    }
   },
   "source": [
    "# A taste of Python data structures\n",
    "Python uses many different objects to store data.   \n",
    "They all have their specifications and their custom methods.  \n",
    "We are going to focus on the two main ones (lists and dicts) which are representative of the \"Python spirit\". "
   ]
  },
  {
   "cell_type": "markdown",
   "metadata": {
    "slideshow": {
     "slide_type": "slide"
    }
   },
   "source": [
    "## Lists\n",
    "Lists are ordered sequence of values.   \n",
    "You can create, update, concatenate, loop, search, index, add, slice, delete, analyse ..."
   ]
  },
  {
   "cell_type": "code",
   "execution_count": null,
   "metadata": {
    "slideshow": {
     "slide_type": "subslide"
    }
   },
   "outputs": [],
   "source": [
    "# Here we create a list called zoo with 6 elements\n",
    "zoo = ['cat', 'bat', 'rat', 'elephant','ants','dogs']\n",
    "zoo"
   ]
  },
  {
   "cell_type": "code",
   "execution_count": null,
   "metadata": {
    "slideshow": {
     "slide_type": "fragment"
    }
   },
   "outputs": [],
   "source": [
    "# we can get any element of the list by calling its position\n",
    "zoo[-1] "
   ]
  },
  {
   "cell_type": "code",
   "execution_count": null,
   "metadata": {
    "slideshow": {
     "slide_type": "fragment"
    }
   },
   "outputs": [],
   "source": [
    " # We  can  check i f an el ement is in the list with the keyword \"in\"\n",
    "'rat' in zoo"
   ]
  },
  {
   "cell_type": "code",
   "execution_count": null,
   "metadata": {
    "slideshow": {
     "slide_type": "subslide"
    }
   },
   "outputs": [],
   "source": [
    "# We can loop on our list with the keyword \"for....in\". The name \"animal\" is arbitrary. \n",
    "for animal in zoo:\n",
    "    print(animal)"
   ]
  },
  {
   "cell_type": "code",
   "execution_count": null,
   "metadata": {
    "slideshow": {
     "slide_type": "subslide"
    }
   },
   "outputs": [],
   "source": [
    "# \"append\" is one of the many methods we can use on our list. It adds an element at the end of the list\n",
    "zoo.append(\"lion\")\n",
    "# Try to search on google \"remove an element from a python list\"\n",
    "zoo.remove(\"bat\")\n",
    "zoo "
   ]
  },
  {
   "cell_type": "code",
   "execution_count": null,
   "metadata": {
    "slideshow": {
     "slide_type": "fragment"
    }
   },
   "outputs": [],
   "source": [
    "  # We can check the length of our list\n",
    "len(zoo)  "
   ]
  },
  {
   "cell_type": "code",
   "execution_count": null,
   "metadata": {
    "slideshow": {
     "slide_type": "fragment"
    }
   },
   "outputs": [],
   "source": [
    "# Find the position of a specific element\n",
    "zoo.index('lion') "
   ]
  },
  {
   "cell_type": "code",
   "execution_count": null,
   "metadata": {
    "slideshow": {
     "slide_type": "subslide"
    }
   },
   "outputs": [],
   "source": [
    "# Sort all the elements alphabetically\n",
    "zoo.sort()\n",
    "print(zoo)\n",
    "# Or by length\n",
    "zoo.sort(key=len)\n",
    "print(zoo)"
   ]
  },
  {
   "cell_type": "markdown",
   "metadata": {
    "slideshow": {
     "slide_type": "slide"
    }
   },
   "source": [
    "## Dicts\n",
    "Like a list, a dictionary is a collection of many values.  \n",
    "But unlike indexes for lists which are integers (zoo[4]), indexes for dicts can be strings or any other type. \n",
    "Indexes for dictionaries are called keys.  \n",
    "Also dicts are unordered. "
   ]
  },
  {
   "cell_type": "code",
   "execution_count": null,
   "metadata": {
    "collapsed": true,
    "slideshow": {
     "slide_type": "subslide"
    }
   },
   "outputs": [],
   "source": [
    "# Creation of a dictionnary called \"earth\"\n",
    "earth = {\"sky\":\"blue\",\"sun\":\"yellow\",\"tree\":\"green\"}"
   ]
  },
  {
   "cell_type": "code",
   "execution_count": null,
   "metadata": {
    "slideshow": {
     "slide_type": "fragment"
    }
   },
   "outputs": [],
   "source": [
    "# Get an element of the dictionnary. It is the same idea as zoo[4], but with a name instead of a number\n",
    "earth[\"sun\"]"
   ]
  },
  {
   "cell_type": "code",
   "execution_count": null,
   "metadata": {
    "slideshow": {
     "slide_type": "fragment"
    }
   },
   "outputs": [],
   "source": [
    "# Check if a key is  in a dictionnary. \n",
    "'sky' in earth "
   ]
  },
  {
   "cell_type": "code",
   "execution_count": null,
   "metadata": {
    "slideshow": {
     "slide_type": "subslide"
    }
   },
   "outputs": [],
   "source": [
    "# Loop on a dictionnary and print values\n",
    "for key in earth:\n",
    "    print(key, \"is\", earth[key])"
   ]
  },
  {
   "cell_type": "code",
   "execution_count": null,
   "metadata": {
    "slideshow": {
     "slide_type": "fragment"
    }
   },
   "outputs": [],
   "source": [
    "# Check the lengt h of a dictionnar y. Many methods work the same on different types. \n",
    "len(earth)   "
   ]
  },
  {
   "cell_type": "code",
   "execution_count": null,
   "metadata": {
    "slideshow": {
     "slide_type": "fragment"
    }
   },
   "outputs": [],
   "source": [
    "  # Create a n  ew element\n",
    "earth[\"sky\"]=\"white\"\n",
    "earth"
   ]
  },
  {
   "cell_type": "markdown",
   "metadata": {
    "slideshow": {
     "slide_type": "slide"
    }
   },
   "source": [
    "## CSV\n",
    "CSV stands for “comma-separated values”.  \n",
    "CSV files are simplified spreadsheets stored as plaintext files.  \n",
    "Python’s csv module makes it easy to parse CSV files.  \n",
    "The advantage of CSV files is simplicity.   \n",
    "They are widely supported by many types of programs, can be viewed in text editors (including IDLE’s file editor), and are a straightforward way to represent spreadsheet data."
   ]
  },
  {
   "cell_type": "code",
   "execution_count": null,
   "metadata": {
    "slideshow": {
     "slide_type": "subslide"
    }
   },
   "outputs": [],
   "source": [
    "# This is how we import a library in Python \n",
    "# Inside this \"csv\" library are stored many useful csv functions accessible through a \".\"\n",
    "import csv\n",
    " \n",
    "# Open the \"basket.csv\" file in the current directory and write 4 rows in it.\n",
    "with open('./data/basket.csv', 'w') as csvfile:\n",
    "    filewriter = csv.writer(csvfile, delimiter=',')\n",
    "    filewriter.writerow(['Name', 'Quantity'])\n",
    "    filewriter.writerow(['Bananas', 3])\n",
    "    filewriter.writerow(['Oranges', 4])\n",
    "    filewriter.writerow(['Apples', 5])\n",
    "\n",
    "    \n",
    "    \n",
    "# Open the same file and read its content\n",
    "with open('./data/basket.csv', 'r') as f:\n",
    "    reader = csv.reader(f)\n",
    "    # read file row by row\n",
    "    for row in reader:\n",
    "        print(row)"
   ]
  },
  {
   "cell_type": "code",
   "execution_count": null,
   "metadata": {
    "collapsed": true,
    "slideshow": {
     "slide_type": "subslide"
    }
   },
   "outputs": [],
   "source": [
    "# Example of script to merge csv files\n",
    "# Data taken here : https://rte-opendata.opendatasoft.com/explore/dataset/prod_region_annuelle_enr/\n",
    "from glob import glob\n",
    "with open('./data/merged.csv', 'a') as singleFile:\n",
    "    singleFile.write('Index,Année,Région,insee_region,hydraulique,bioénergie,éolien,solaire\\n')\n",
    "    for csvFile in glob('./data/prod*.csv'):\n",
    "        for line in open(csvFile, 'r'):\n",
    "            singleFile.write(line)"
   ]
  },
  {
   "cell_type": "markdown",
   "metadata": {
    "slideshow": {
     "slide_type": "slide"
    }
   },
   "source": [
    "# JSON\n",
    "When exchanging data between a browser and a server, the data can only be text.  \n",
    "JSON (JavaScript Object Notation) is a lightweight text format that is used for data interchanging.  \n",
    "JSON is useful to know, because many websites offer JSON content as a way for programs to interact with the website. This is known as providing an application programming interface (API)."
   ]
  },
  {
   "cell_type": "code",
   "execution_count": null,
   "metadata": {
    "slideshow": {
     "slide_type": "subslide"
    }
   },
   "outputs": [],
   "source": [
    "# Requests is a library to get web page contents inside our code\n",
    "# This script gets some json information on an API and prints it\n",
    "import requests\n",
    "\n",
    "data = requests.get('http://api.open-notify.org/astros.json').json()\n",
    "for people in data['people']:\n",
    "    print(people['name'])"
   ]
  },
  {
   "cell_type": "code",
   "execution_count": null,
   "metadata": {
    "slideshow": {
     "slide_type": "subslide"
    }
   },
   "outputs": [],
   "source": [
    "# This script asks some information to an API every 2 seconds and saves it in a csv\n",
    "\n",
    "import csv\n",
    "import time\n",
    "import datetime\n",
    "\n",
    "with open('./data/iss-flight.csv', 'w+') as csvfile:\n",
    "    filewriter = csv.writer(csvfile, delimiter=',')\n",
    "    filewriter.writerow(['Time','Latitude','Longitude'])\n",
    "    for i in range(5):\n",
    "        position = requests.get('http://api.open-notify.org/iss-now.json').json()\n",
    "        filewriter.writerow([\n",
    "            position['timestamp'],\n",
    "            position['iss_position']['latitude'], \n",
    "            position['iss_position']['longitude']\n",
    "        ])\n",
    "        print(\"New position saved\")\n",
    "        time.sleep(2)\n",
    "print('Done !')"
   ]
  },
  {
   "cell_type": "markdown",
   "metadata": {
    "slideshow": {
     "slide_type": "slide"
    }
   },
   "source": [
    "# A taste of Python power\n",
    "Python has a huge number of opensource libraries that makes it super powerful.   \n",
    "A library is a set of reusable pre-coded functionalities, like a \"black box\". \n",
    "\n",
    "There is a library for pretty much everything related to computers.  \n",
    "Manipulating images, create games, softwares, linear algebra, search algorithms ...  \n",
    "Here are a few examples. \n"
   ]
  },
  {
   "cell_type": "markdown",
   "metadata": {
    "slideshow": {
     "slide_type": "slide"
    }
   },
   "source": [
    "# Regex\n",
    "\n",
    "A regular expression (or \"regex\") is a sequence of characters that define a search pattern.   \n",
    "Usually this pattern is then used by string searching algorithms for \"find\" or \"find and replace\" operations on strings."
   ]
  },
  {
   "cell_type": "code",
   "execution_count": null,
   "metadata": {
    "slideshow": {
     "slide_type": "fragment"
    }
   },
   "outputs": [],
   "source": [
    "# Script to match all the fabdev.fr emails inside a .txt file\n",
    "import re\n",
    "results = []\n",
    "# Modify the script to match all the emails \n",
    "for line in open('./data/lorem.txt'):\n",
    "    results = results + re.findall(r'[\\w\\.-]+@fabernovel.fr', line)\n",
    "print(results)"
   ]
  },
  {
   "cell_type": "markdown",
   "metadata": {
    "slideshow": {
     "slide_type": "slide"
    }
   },
   "source": [
    "# Sending emails\n",
    "The smtplib module defines an SMTP client session object that can be used to send mail to any Internet machine."
   ]
  },
  {
   "cell_type": "code",
   "execution_count": null,
   "metadata": {
    "collapsed": true,
    "slideshow": {
     "slide_type": "fragment"
    }
   },
   "outputs": [],
   "source": [
    "# Send the result of the previous script to lucas.berbesson@fabdev.fr with the smtp library. \n",
    "import os\n",
    "import smtplib \n",
    "server = smtplib.SMTP('smtp.gmail.com', 587)\n",
    "server.starttls()\n",
    "server.login(\"lucasberbesson@gmail.com\", os.environ['MY_PWD'])\n",
    "msg = \"I found {} emails in lorem.txt\".format(len(results))\n",
    "server.sendmail(\"lucasberbesson@gmail.com\",\"lucas.berbesson@fabdev.fr\", msg)\n",
    "server.quit()"
   ]
  },
  {
   "cell_type": "markdown",
   "metadata": {
    "collapsed": true,
    "slideshow": {
     "slide_type": "slide"
    }
   },
   "source": [
    "# BeautifulSoup : XML and HTML parser\n",
    "A Python library for pulling data out of HTML and XML files. [Documentation](https://www.crummy.com/software/BeautifulSoup/bs4/doc/)"
   ]
  },
  {
   "cell_type": "code",
   "execution_count": null,
   "metadata": {
    "slideshow": {
     "slide_type": "subslide"
    }
   },
   "outputs": [],
   "source": [
    "# Find all alternative softwares\n",
    "import requests\n",
    "from IPython.core.display import display, HTML\n",
    "from bs4 import BeautifulSoup\n",
    "\n",
    "r = requests.get('http://alternativeto.net/software/ifttt/')\n",
    "soup = BeautifulSoup(r.text, \"lxml\")\n",
    "for link in soup.select(\"article > div.col-xs-2.col-sm-2.col-lg-1 > div.like-box > span\"):\n",
    "    print(\"{}({})\".format(link.findNext('a')['data-urlname'],link.text))\n"
   ]
  },
  {
   "cell_type": "markdown",
   "metadata": {
    "collapsed": true,
    "slideshow": {
     "slide_type": "slide"
    }
   },
   "source": [
    "# Time & Datetime\n",
    "The datetime module supplies classes for manipulating dates and times in both simple and complex ways."
   ]
  },
  {
   "cell_type": "code",
   "execution_count": null,
   "metadata": {
    "collapsed": true,
    "slideshow": {
     "slide_type": "subslide"
    }
   },
   "outputs": [],
   "source": [
    "import datetime\n",
    "# Print today's date\n",
    "today = datetime.datetime.today()\n",
    "print(today.weekday())\n",
    "# Find next friday the 13th\n",
    "while not (today.day == 13 and today.weekday() == 4):\n",
    "    today += datetime.timedelta(days=1)\n",
    "    \n",
    "print(today)"
   ]
  },
  {
   "cell_type": "markdown",
   "metadata": {},
   "source": [
    "# Pandas\n",
    "You can think of pandas as an extremely powerful version of Excel, with a lot more features."
   ]
  },
  {
   "cell_type": "code",
   "execution_count": null,
   "metadata": {
    "collapsed": true
   },
   "outputs": [],
   "source": [
    "import pandas as pd\n",
    "import numpy as np\n",
    "import matplotlib.pyplot as plt\n",
    "%matplotlib inline\n",
    "\n",
    "basket = {\"Name\":[\"Banana\",\"Apple\",\"Orange\"],\n",
    "          \"Quantity\":[3,4,5]\n",
    "         }\n",
    "\n",
    "\n",
    "df = pd.DataFrame(basket)\n",
    "df"
   ]
  },
  {
   "cell_type": "code",
   "execution_count": null,
   "metadata": {},
   "outputs": [],
   "source": [
    "df = pd.read_csv('./data/merged.csv')\n",
    "df.head()"
   ]
  },
  {
   "cell_type": "code",
   "execution_count": null,
   "metadata": {},
   "outputs": [],
   "source": [
    "df.describe()"
   ]
  },
  {
   "cell_type": "code",
   "execution_count": null,
   "metadata": {},
   "outputs": [],
   "source": [
    "df[0:3]"
   ]
  },
  {
   "cell_type": "code",
   "execution_count": null,
   "metadata": {},
   "outputs": [],
   "source": [
    "df['Région']"
   ]
  },
  {
   "cell_type": "code",
   "execution_count": null,
   "metadata": {},
   "outputs": [],
   "source": [
    "df[df['solaire']>400]"
   ]
  },
  {
   "cell_type": "code",
   "execution_count": null,
   "metadata": {},
   "outputs": [],
   "source": [
    "df.sort_values(by='éolien')"
   ]
  },
  {
   "cell_type": "code",
   "execution_count": null,
   "metadata": {},
   "outputs": [],
   "source": [
    "df.groupby('Année').sum()"
   ]
  },
  {
   "cell_type": "code",
   "execution_count": null,
   "metadata": {},
   "outputs": [],
   "source": [
    "pd.pivot_table(df,index=['Région','Année'], aggfunc=np.sum)"
   ]
  },
  {
   "cell_type": "code",
   "execution_count": null,
   "metadata": {},
   "outputs": [],
   "source": [
    "df[df['Région']=='Pays de la Loire'].plot(x='Année', y='éolien')"
   ]
  }
 ],
 "metadata": {
  "celltoolbar": "Slideshow",
  "kernelspec": {
   "display_name": "Python 3",
   "language": "python",
   "name": "python3"
  },
  "language_info": {
   "codemirror_mode": {
    "name": "ipython",
    "version": 3
   },
   "file_extension": ".py",
   "mimetype": "text/x-python",
   "name": "python",
   "nbconvert_exporter": "python",
   "pygments_lexer": "ipython3",
   "version": "3.5.1"
  }
 },
 "nbformat": 4,
 "nbformat_minor": 2
}
